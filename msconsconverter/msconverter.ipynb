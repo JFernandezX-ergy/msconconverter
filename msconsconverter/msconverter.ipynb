{
 "cells": [
  {
   "cell_type": "code",
   "execution_count": 1,
   "metadata": {},
   "outputs": [],
   "source": [
    "import msconsconverter\n",
    "import os"
   ]
  },
  {
   "cell_type": "code",
   "execution_count": 2,
   "metadata": {},
   "outputs": [],
   "source": [
    "from msconsconverter import main"
   ]
  },
  {
   "cell_type": "code",
   "execution_count": 3,
   "metadata": {},
   "outputs": [
    {
     "name": "stdout",
     "output_type": "stream",
     "text": [
      "[i] class \"MSCONSConverter\" created\n",
      "[i] processing file c:\\Users\\JuanFernandez\\git_repos\\msconsconverter\\msconsconverter\\..\\data\\MSCONS_TL_9904660000007_9984376000004_20231113_31290968A_0030783418.txt\n",
      "[i] parsing MSCONS\n",
      "[i] identified special characters of MSCONS\n",
      "[i] special symbols that will be used\n",
      "\tCOMPONENT_SEPARATOR :\n",
      "\tELEMENT_SEPARATOR +\n",
      "\tDECIMAL_MARK ,\n",
      "\tRELEASE_SYMBOL ?\n",
      "\tSEGMENTAION_SYMBOL '\n",
      "['LOC', '172', 'DE00072602625ET000000000000540516']\n",
      "[i] PIA was found, but ignored\n",
      "['LOC', '172', 'DE00072602625ET000000000000540516']\n",
      "[i] PIA was found, but ignored\n",
      "['LOC', '172', 'DE00072602625ET000000000000540516']\n",
      "[i] PIA was found, but ignored\n",
      "['LOC', '172', 'DE00072602625ET000000000000540516']\n",
      "[i] PIA was found, but ignored\n",
      "['LOC', '172', 'DE00072602625ET000000000000540516']\n",
      "[i] PIA was found, but ignored\n",
      "['LOC', '172', 'DE00072602625ET000000000000540516']\n",
      "[i] PIA was found, but ignored\n",
      "['LOC', '172', 'DE00072602625ET000000000000540516']\n",
      "[i] PIA was found, but ignored\n",
      "['LOC', '172', 'DE00072602625ET000000000000540516']\n",
      "[i] PIA was found, but ignored\n",
      "[i] saving data to CSV\n",
      "[i] parsing results saved into file \"c:\\Users\\JuanFernandez\\git_repos\\msconsconverter\\msconsconverter\\..\\data\\__temp__\\MSCONS-2023-11-15-amn9458.csv\"\n",
      "[i] processing file c:\\Users\\JuanFernandez\\git_repos\\msconsconverter\\msconsconverter\\..\\data\\MSCONS_TL_9906532000008_9984376000004_20231110_002185610289_0030750846.txt\n",
      "[i] parsing MSCONS\n",
      "[i] identified special characters of MSCONS\n",
      "[i] special symbols that will be used\n",
      "\tCOMPONENT_SEPARATOR :\n",
      "\tELEMENT_SEPARATOR +\n",
      "\tDECIMAL_MARK .\n",
      "\tRELEASE_SYMBOL ?\n",
      "\tSEGMENTAION_SYMBOL '\n",
      "['LOC', '172', 'DE00106882008S0000000000001178980']\n",
      "[i] PIA was found, but ignored\n",
      "[i] saving data to CSV\n",
      "[i] parsing results saved into file \"c:\\Users\\JuanFernandez\\git_repos\\msconsconverter\\msconsconverter\\..\\data\\__temp__\\MSCONS-2023-11-15-fpf808p.csv\"\n"
     ]
    }
   ],
   "source": [
    "cwd = os.getcwd()\n",
    "input_folder = os.path.join(cwd, '..', 'data')\n",
    "\n",
    "main(folder=input_folder, files=None)"
   ]
  }
 ],
 "metadata": {
  "kernelspec": {
   "display_name": "msconsconverter_env",
   "language": "python",
   "name": "python3"
  },
  "language_info": {
   "codemirror_mode": {
    "name": "ipython",
    "version": 3
   },
   "file_extension": ".py",
   "mimetype": "text/x-python",
   "name": "python",
   "nbconvert_exporter": "python",
   "pygments_lexer": "ipython3",
   "version": "3.8.18"
  }
 },
 "nbformat": 4,
 "nbformat_minor": 2
}
