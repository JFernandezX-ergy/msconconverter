{
 "cells": [
  {
   "cell_type": "code",
   "execution_count": 1,
   "metadata": {},
   "outputs": [],
   "source": [
    "import pandas as pd\n",
    "import os"
   ]
  },
  {
   "cell_type": "code",
   "execution_count": 2,
   "metadata": {},
   "outputs": [],
   "source": [
    "# Read MSCONS files\n",
    "cwd = os.getcwd()\n",
    "mscons_path = os.path.join(cwd, '..', 'data', '__temp__')"
   ]
  },
  {
   "cell_type": "code",
   "execution_count": 3,
   "metadata": {},
   "outputs": [
    {
     "name": "stdout",
     "output_type": "stream",
     "text": [
      "c:\\Users\\JuanFernandez\\git_repos\\msconsconverter\\msconsconverter\\..\\data\\__temp__\\MSCONS-2023-11-15-amn9458.csv\n",
      "c:\\Users\\JuanFernandez\\git_repos\\msconsconverter\\msconsconverter\\..\\data\\__temp__\\MSCONS-2023-11-15-fpf808p.csv\n"
     ]
    }
   ],
   "source": [
    "def read_csv_files_from_directory(directory_path):\n",
    "    \"\"\"\n",
    "    Reads all .csv files from the specified directory.\n",
    "    Returns a list of full paths of .csv files.\n",
    "    \"\"\"\n",
    "    return [os.path.join(directory_path, file) for file in os.listdir(directory_path) if file.endswith('.csv')]\n",
    "\n",
    "# Example usage\n",
    "if __name__ == \"__main__\":\n",
    "    cwd = os.getcwd()\n",
    "    mscons_path = os.path.join(cwd, '..', 'data', '__temp__')\n",
    "    csv_files = read_csv_files_from_directory(mscons_path)\n",
    "\n",
    "    # Print out the files that were read\n",
    "    for file in csv_files:\n",
    "        print(file)"
   ]
  },
  {
   "cell_type": "code",
   "execution_count": 4,
   "metadata": {},
   "outputs": [
    {
     "data": {
      "text/plain": [
       "['c:\\\\Users\\\\JuanFernandez\\\\git_repos\\\\msconsconverter\\\\msconsconverter\\\\..\\\\data\\\\__temp__\\\\MSCONS-2023-11-15-amn9458.csv',\n",
       " 'c:\\\\Users\\\\JuanFernandez\\\\git_repos\\\\msconsconverter\\\\msconsconverter\\\\..\\\\data\\\\__temp__\\\\MSCONS-2023-11-15-fpf808p.csv']"
      ]
     },
     "execution_count": 4,
     "metadata": {},
     "output_type": "execute_result"
    }
   ],
   "source": [
    "csv_files"
   ]
  },
  {
   "cell_type": "code",
   "execution_count": 5,
   "metadata": {},
   "outputs": [],
   "source": [
    "# Read csv files and store them in a dictionary\n",
    "def get_csv_dataframes(path):\n",
    "    csv_files = read_csv_files_from_directory(path)\n",
    "    dataframes = {}\n",
    "    \n",
    "    for file in csv_files:\n",
    "        file_name = os.path.basename(file).replace('.csv', '')\n",
    "        dataframes[file_name] = pd.read_csv(file)\n",
    "        \n",
    "    return dataframes\n",
    "\n",
    "# Example usage\n",
    "if __name__ == \"__main__\":\n",
    "    cwd = os.getcwd()\n",
    "    mscons_path = os.path.join(cwd, '..', 'data', '__temp__')\n",
    "    df_dict = get_csv_dataframes(mscons_path)"
   ]
  },
  {
   "cell_type": "code",
   "execution_count": 6,
   "metadata": {},
   "outputs": [
    {
     "name": "stdout",
     "output_type": "stream",
     "text": [
      "File Name: MSCONS-2023-11-15-amn9458, DataFrame Shape: (2405, 18)\n",
      "File Name: MSCONS-2023-11-15-fpf808p, DataFrame Shape: (291, 18)\n"
     ]
    }
   ],
   "source": [
    "# Print out the names of the files that were read\n",
    "for file_name, df in df_dict.items():\n",
    "    print(f\"File Name: {file_name}, DataFrame Shape: {df.shape}\")"
   ]
  },
  {
   "cell_type": "code",
   "execution_count": 8,
   "metadata": {},
   "outputs": [],
   "source": [
    "df = df_dict['MSCONS-2023-11-15-amn9458']"
   ]
  },
  {
   "cell_type": "code",
   "execution_count": 9,
   "metadata": {},
   "outputs": [
    {
     "data": {
      "text/html": [
       "<div>\n",
       "<style scoped>\n",
       "    .dataframe tbody tr th:only-of-type {\n",
       "        vertical-align: middle;\n",
       "    }\n",
       "\n",
       "    .dataframe tbody tr th {\n",
       "        vertical-align: top;\n",
       "    }\n",
       "\n",
       "    .dataframe thead th {\n",
       "        text-align: right;\n",
       "    }\n",
       "</style>\n",
       "<table border=\"1\" class=\"dataframe\">\n",
       "  <thead>\n",
       "    <tr style=\"text-align: right;\">\n",
       "      <th></th>\n",
       "      <th>LOC_MSCONS</th>\n",
       "      <th>LOC_PLZ</th>\n",
       "      <th>LOC_EEGKEY</th>\n",
       "      <th>DATE_PERIOD_START</th>\n",
       "      <th>YEAR_PS</th>\n",
       "      <th>MONTH_PS</th>\n",
       "      <th>DAY_PS</th>\n",
       "      <th>HOUR_PS</th>\n",
       "      <th>MINUTE_PS</th>\n",
       "      <th>UTC_PS</th>\n",
       "      <th>DATE_PERIOD_END</th>\n",
       "      <th>YEAR_PE</th>\n",
       "      <th>MONTH_PE</th>\n",
       "      <th>DAY_PE</th>\n",
       "      <th>HOUR_PE</th>\n",
       "      <th>MINUTE_PE</th>\n",
       "      <th>UTC_PE</th>\n",
       "      <th>VALUE</th>\n",
       "    </tr>\n",
       "  </thead>\n",
       "  <tbody>\n",
       "    <tr>\n",
       "      <th>0</th>\n",
       "      <td>DE00072602625ET000000000000540516</td>\n",
       "      <td>2625</td>\n",
       "      <td>ET000000000000540516</td>\n",
       "      <td>202311102300+00</td>\n",
       "      <td>2023</td>\n",
       "      <td>11</td>\n",
       "      <td>10</td>\n",
       "      <td>23</td>\n",
       "      <td>0</td>\n",
       "      <td>0</td>\n",
       "      <td>202311112300+00</td>\n",
       "      <td>2023</td>\n",
       "      <td>11</td>\n",
       "      <td>11</td>\n",
       "      <td>23</td>\n",
       "      <td>0</td>\n",
       "      <td>0</td>\n",
       "      <td>10,5</td>\n",
       "    </tr>\n",
       "    <tr>\n",
       "      <th>1</th>\n",
       "      <td>DE00072602625ET000000000000540516</td>\n",
       "      <td>2625</td>\n",
       "      <td>ET000000000000540516</td>\n",
       "      <td>202311102300+00</td>\n",
       "      <td>2023</td>\n",
       "      <td>11</td>\n",
       "      <td>10</td>\n",
       "      <td>23</td>\n",
       "      <td>0</td>\n",
       "      <td>0</td>\n",
       "      <td>202311112300+00</td>\n",
       "      <td>2023</td>\n",
       "      <td>11</td>\n",
       "      <td>11</td>\n",
       "      <td>23</td>\n",
       "      <td>0</td>\n",
       "      <td>0</td>\n",
       "      <td>10,5</td>\n",
       "    </tr>\n",
       "    <tr>\n",
       "      <th>2</th>\n",
       "      <td>DE00072602625ET000000000000540516</td>\n",
       "      <td>2625</td>\n",
       "      <td>ET000000000000540516</td>\n",
       "      <td>202311102300+00</td>\n",
       "      <td>2023</td>\n",
       "      <td>11</td>\n",
       "      <td>10</td>\n",
       "      <td>23</td>\n",
       "      <td>0</td>\n",
       "      <td>0</td>\n",
       "      <td>202311102315+00</td>\n",
       "      <td>2023</td>\n",
       "      <td>11</td>\n",
       "      <td>10</td>\n",
       "      <td>23</td>\n",
       "      <td>15</td>\n",
       "      <td>0</td>\n",
       "      <td>10,5</td>\n",
       "    </tr>\n",
       "    <tr>\n",
       "      <th>3</th>\n",
       "      <td>DE00072602625ET000000000000540516</td>\n",
       "      <td>2625</td>\n",
       "      <td>ET000000000000540516</td>\n",
       "      <td>202311102300+00</td>\n",
       "      <td>2023</td>\n",
       "      <td>11</td>\n",
       "      <td>10</td>\n",
       "      <td>23</td>\n",
       "      <td>0</td>\n",
       "      <td>0</td>\n",
       "      <td>202311102315+00</td>\n",
       "      <td>2023</td>\n",
       "      <td>11</td>\n",
       "      <td>10</td>\n",
       "      <td>23</td>\n",
       "      <td>15</td>\n",
       "      <td>0</td>\n",
       "      <td>10,5</td>\n",
       "    </tr>\n",
       "    <tr>\n",
       "      <th>4</th>\n",
       "      <td>DE00072602625ET000000000000540516</td>\n",
       "      <td>2625</td>\n",
       "      <td>ET000000000000540516</td>\n",
       "      <td>202311102315+00</td>\n",
       "      <td>2023</td>\n",
       "      <td>11</td>\n",
       "      <td>10</td>\n",
       "      <td>23</td>\n",
       "      <td>15</td>\n",
       "      <td>0</td>\n",
       "      <td>202311102315+00</td>\n",
       "      <td>2023</td>\n",
       "      <td>11</td>\n",
       "      <td>10</td>\n",
       "      <td>23</td>\n",
       "      <td>15</td>\n",
       "      <td>0</td>\n",
       "      <td>10,5</td>\n",
       "    </tr>\n",
       "    <tr>\n",
       "      <th>...</th>\n",
       "      <td>...</td>\n",
       "      <td>...</td>\n",
       "      <td>...</td>\n",
       "      <td>...</td>\n",
       "      <td>...</td>\n",
       "      <td>...</td>\n",
       "      <td>...</td>\n",
       "      <td>...</td>\n",
       "      <td>...</td>\n",
       "      <td>...</td>\n",
       "      <td>...</td>\n",
       "      <td>...</td>\n",
       "      <td>...</td>\n",
       "      <td>...</td>\n",
       "      <td>...</td>\n",
       "      <td>...</td>\n",
       "      <td>...</td>\n",
       "      <td>...</td>\n",
       "    </tr>\n",
       "    <tr>\n",
       "      <th>2400</th>\n",
       "      <td>DE00072602625ET000000000000540516</td>\n",
       "      <td>2625</td>\n",
       "      <td>ET000000000000540516</td>\n",
       "      <td>202311112245+00</td>\n",
       "      <td>2023</td>\n",
       "      <td>11</td>\n",
       "      <td>11</td>\n",
       "      <td>22</td>\n",
       "      <td>45</td>\n",
       "      <td>0</td>\n",
       "      <td>202311112245+00</td>\n",
       "      <td>2023</td>\n",
       "      <td>11</td>\n",
       "      <td>11</td>\n",
       "      <td>22</td>\n",
       "      <td>45</td>\n",
       "      <td>0</td>\n",
       "      <td>0</td>\n",
       "    </tr>\n",
       "    <tr>\n",
       "      <th>2401</th>\n",
       "      <td>DE00072602625ET000000000000540516</td>\n",
       "      <td>2625</td>\n",
       "      <td>ET000000000000540516</td>\n",
       "      <td>202311112245+00</td>\n",
       "      <td>2023</td>\n",
       "      <td>11</td>\n",
       "      <td>11</td>\n",
       "      <td>22</td>\n",
       "      <td>45</td>\n",
       "      <td>0</td>\n",
       "      <td>202311112300+00</td>\n",
       "      <td>2023</td>\n",
       "      <td>11</td>\n",
       "      <td>11</td>\n",
       "      <td>23</td>\n",
       "      <td>0</td>\n",
       "      <td>0</td>\n",
       "      <td>0</td>\n",
       "    </tr>\n",
       "    <tr>\n",
       "      <th>2402</th>\n",
       "      <td>DE00072602625ET000000000000540516</td>\n",
       "      <td>2625</td>\n",
       "      <td>ET000000000000540516</td>\n",
       "      <td>202311112245+00</td>\n",
       "      <td>2023</td>\n",
       "      <td>11</td>\n",
       "      <td>11</td>\n",
       "      <td>22</td>\n",
       "      <td>45</td>\n",
       "      <td>0</td>\n",
       "      <td>202311112300+00</td>\n",
       "      <td>2023</td>\n",
       "      <td>11</td>\n",
       "      <td>11</td>\n",
       "      <td>23</td>\n",
       "      <td>0</td>\n",
       "      <td>0</td>\n",
       "      <td>0</td>\n",
       "    </tr>\n",
       "    <tr>\n",
       "      <th>2403</th>\n",
       "      <td>DE00072602625ET000000000000540516</td>\n",
       "      <td>2625</td>\n",
       "      <td>ET000000000000540516</td>\n",
       "      <td>202311112245+00</td>\n",
       "      <td>2023</td>\n",
       "      <td>11</td>\n",
       "      <td>11</td>\n",
       "      <td>22</td>\n",
       "      <td>45</td>\n",
       "      <td>0</td>\n",
       "      <td>202311112300+00</td>\n",
       "      <td>2023</td>\n",
       "      <td>11</td>\n",
       "      <td>11</td>\n",
       "      <td>23</td>\n",
       "      <td>0</td>\n",
       "      <td>0</td>\n",
       "      <td>0</td>\n",
       "    </tr>\n",
       "    <tr>\n",
       "      <th>2404</th>\n",
       "      <td>DE00072602625ET000000000000540516</td>\n",
       "      <td>2625</td>\n",
       "      <td>ET000000000000540516</td>\n",
       "      <td>202311112245+00</td>\n",
       "      <td>2023</td>\n",
       "      <td>11</td>\n",
       "      <td>11</td>\n",
       "      <td>22</td>\n",
       "      <td>45</td>\n",
       "      <td>0</td>\n",
       "      <td>202311112300+00</td>\n",
       "      <td>2023</td>\n",
       "      <td>11</td>\n",
       "      <td>11</td>\n",
       "      <td>23</td>\n",
       "      <td>0</td>\n",
       "      <td>0</td>\n",
       "      <td>0</td>\n",
       "    </tr>\n",
       "  </tbody>\n",
       "</table>\n",
       "<p>2405 rows × 18 columns</p>\n",
       "</div>"
      ],
      "text/plain": [
       "                             LOC_MSCONS  LOC_PLZ            LOC_EEGKEY  \\\n",
       "0     DE00072602625ET000000000000540516     2625  ET000000000000540516   \n",
       "1     DE00072602625ET000000000000540516     2625  ET000000000000540516   \n",
       "2     DE00072602625ET000000000000540516     2625  ET000000000000540516   \n",
       "3     DE00072602625ET000000000000540516     2625  ET000000000000540516   \n",
       "4     DE00072602625ET000000000000540516     2625  ET000000000000540516   \n",
       "...                                 ...      ...                   ...   \n",
       "2400  DE00072602625ET000000000000540516     2625  ET000000000000540516   \n",
       "2401  DE00072602625ET000000000000540516     2625  ET000000000000540516   \n",
       "2402  DE00072602625ET000000000000540516     2625  ET000000000000540516   \n",
       "2403  DE00072602625ET000000000000540516     2625  ET000000000000540516   \n",
       "2404  DE00072602625ET000000000000540516     2625  ET000000000000540516   \n",
       "\n",
       "     DATE_PERIOD_START  YEAR_PS  MONTH_PS  DAY_PS  HOUR_PS  MINUTE_PS  UTC_PS  \\\n",
       "0      202311102300+00     2023        11      10       23          0       0   \n",
       "1      202311102300+00     2023        11      10       23          0       0   \n",
       "2      202311102300+00     2023        11      10       23          0       0   \n",
       "3      202311102300+00     2023        11      10       23          0       0   \n",
       "4      202311102315+00     2023        11      10       23         15       0   \n",
       "...                ...      ...       ...     ...      ...        ...     ...   \n",
       "2400   202311112245+00     2023        11      11       22         45       0   \n",
       "2401   202311112245+00     2023        11      11       22         45       0   \n",
       "2402   202311112245+00     2023        11      11       22         45       0   \n",
       "2403   202311112245+00     2023        11      11       22         45       0   \n",
       "2404   202311112245+00     2023        11      11       22         45       0   \n",
       "\n",
       "      DATE_PERIOD_END  YEAR_PE  MONTH_PE  DAY_PE  HOUR_PE  MINUTE_PE  UTC_PE  \\\n",
       "0     202311112300+00     2023        11      11       23          0       0   \n",
       "1     202311112300+00     2023        11      11       23          0       0   \n",
       "2     202311102315+00     2023        11      10       23         15       0   \n",
       "3     202311102315+00     2023        11      10       23         15       0   \n",
       "4     202311102315+00     2023        11      10       23         15       0   \n",
       "...               ...      ...       ...     ...      ...        ...     ...   \n",
       "2400  202311112245+00     2023        11      11       22         45       0   \n",
       "2401  202311112300+00     2023        11      11       23          0       0   \n",
       "2402  202311112300+00     2023        11      11       23          0       0   \n",
       "2403  202311112300+00     2023        11      11       23          0       0   \n",
       "2404  202311112300+00     2023        11      11       23          0       0   \n",
       "\n",
       "     VALUE  \n",
       "0     10,5  \n",
       "1     10,5  \n",
       "2     10,5  \n",
       "3     10,5  \n",
       "4     10,5  \n",
       "...    ...  \n",
       "2400     0  \n",
       "2401     0  \n",
       "2402     0  \n",
       "2403     0  \n",
       "2404     0  \n",
       "\n",
       "[2405 rows x 18 columns]"
      ]
     },
     "execution_count": 9,
     "metadata": {},
     "output_type": "execute_result"
    }
   ],
   "source": [
    "df"
   ]
  },
  {
   "cell_type": "code",
   "execution_count": 10,
   "metadata": {},
   "outputs": [],
   "source": [
    "# Assuming df is your DataFrame\n",
    "df['VALUE'] = pd.to_numeric(df['VALUE'], errors='coerce')\n",
    "total_sum = df['VALUE'].sum()"
   ]
  },
  {
   "cell_type": "code",
   "execution_count": 11,
   "metadata": {},
   "outputs": [
    {
     "name": "stdout",
     "output_type": "stream",
     "text": [
      "Number of non-convertible values: 680\n"
     ]
    }
   ],
   "source": [
    "num_na_values = df['VALUE'].isna().sum()\n",
    "print(\"Number of non-convertible values:\", num_na_values)"
   ]
  },
  {
   "cell_type": "code",
   "execution_count": 12,
   "metadata": {},
   "outputs": [
    {
     "data": {
      "text/plain": [
       "3552.0"
      ]
     },
     "execution_count": 12,
     "metadata": {},
     "output_type": "execute_result"
    }
   ],
   "source": [
    "total_sum"
   ]
  },
  {
   "cell_type": "code",
   "execution_count": 13,
   "metadata": {},
   "outputs": [
    {
     "data": {
      "text/plain": [
       "680"
      ]
     },
     "execution_count": 13,
     "metadata": {},
     "output_type": "execute_result"
    }
   ],
   "source": [
    "num_na_values"
   ]
  },
  {
   "cell_type": "code",
   "execution_count": 14,
   "metadata": {},
   "outputs": [
    {
     "data": {
      "text/plain": [
       "(2405, 18)"
      ]
     },
     "execution_count": 14,
     "metadata": {},
     "output_type": "execute_result"
    }
   ],
   "source": [
    "df.shape"
   ]
  },
  {
   "cell_type": "code",
   "execution_count": 15,
   "metadata": {},
   "outputs": [],
   "source": [
    "df_1 = df_dict['MSCONS-2023-11-15-fpf808p']"
   ]
  },
  {
   "cell_type": "code",
   "execution_count": 16,
   "metadata": {},
   "outputs": [
    {
     "data": {
      "text/html": [
       "<div>\n",
       "<style scoped>\n",
       "    .dataframe tbody tr th:only-of-type {\n",
       "        vertical-align: middle;\n",
       "    }\n",
       "\n",
       "    .dataframe tbody tr th {\n",
       "        vertical-align: top;\n",
       "    }\n",
       "\n",
       "    .dataframe thead th {\n",
       "        text-align: right;\n",
       "    }\n",
       "</style>\n",
       "<table border=\"1\" class=\"dataframe\">\n",
       "  <thead>\n",
       "    <tr style=\"text-align: right;\">\n",
       "      <th></th>\n",
       "      <th>LOC_MSCONS</th>\n",
       "      <th>LOC_PLZ</th>\n",
       "      <th>LOC_EEGKEY</th>\n",
       "      <th>DATE_PERIOD_START</th>\n",
       "      <th>YEAR_PS</th>\n",
       "      <th>MONTH_PS</th>\n",
       "      <th>DAY_PS</th>\n",
       "      <th>HOUR_PS</th>\n",
       "      <th>MINUTE_PS</th>\n",
       "      <th>UTC_PS</th>\n",
       "      <th>DATE_PERIOD_END</th>\n",
       "      <th>YEAR_PE</th>\n",
       "      <th>MONTH_PE</th>\n",
       "      <th>DAY_PE</th>\n",
       "      <th>HOUR_PE</th>\n",
       "      <th>MINUTE_PE</th>\n",
       "      <th>UTC_PE</th>\n",
       "      <th>VALUE</th>\n",
       "    </tr>\n",
       "  </thead>\n",
       "  <tbody>\n",
       "    <tr>\n",
       "      <th>0</th>\n",
       "      <td>DE00106882008S0000000000001178980</td>\n",
       "      <td>82008</td>\n",
       "      <td>S0000000000001178980</td>\n",
       "      <td>202311082300+00</td>\n",
       "      <td>2023</td>\n",
       "      <td>11</td>\n",
       "      <td>8</td>\n",
       "      <td>23</td>\n",
       "      <td>0</td>\n",
       "      <td>0</td>\n",
       "      <td>202311092300+00</td>\n",
       "      <td>2023</td>\n",
       "      <td>11</td>\n",
       "      <td>9</td>\n",
       "      <td>23</td>\n",
       "      <td>0</td>\n",
       "      <td>0</td>\n",
       "      <td>0.0</td>\n",
       "    </tr>\n",
       "    <tr>\n",
       "      <th>1</th>\n",
       "      <td>DE00106882008S0000000000001178980</td>\n",
       "      <td>82008</td>\n",
       "      <td>S0000000000001178980</td>\n",
       "      <td>202311082300+00</td>\n",
       "      <td>2023</td>\n",
       "      <td>11</td>\n",
       "      <td>8</td>\n",
       "      <td>23</td>\n",
       "      <td>0</td>\n",
       "      <td>0</td>\n",
       "      <td>202311092300+00</td>\n",
       "      <td>2023</td>\n",
       "      <td>11</td>\n",
       "      <td>9</td>\n",
       "      <td>23</td>\n",
       "      <td>0</td>\n",
       "      <td>0</td>\n",
       "      <td>0.0</td>\n",
       "    </tr>\n",
       "    <tr>\n",
       "      <th>2</th>\n",
       "      <td>DE00106882008S0000000000001178980</td>\n",
       "      <td>82008</td>\n",
       "      <td>S0000000000001178980</td>\n",
       "      <td>202311082300+00</td>\n",
       "      <td>2023</td>\n",
       "      <td>11</td>\n",
       "      <td>8</td>\n",
       "      <td>23</td>\n",
       "      <td>0</td>\n",
       "      <td>0</td>\n",
       "      <td>202311082315+00</td>\n",
       "      <td>2023</td>\n",
       "      <td>11</td>\n",
       "      <td>8</td>\n",
       "      <td>23</td>\n",
       "      <td>15</td>\n",
       "      <td>0</td>\n",
       "      <td>0.0</td>\n",
       "    </tr>\n",
       "    <tr>\n",
       "      <th>3</th>\n",
       "      <td>DE00106882008S0000000000001178980</td>\n",
       "      <td>82008</td>\n",
       "      <td>S0000000000001178980</td>\n",
       "      <td>202311082300+00</td>\n",
       "      <td>2023</td>\n",
       "      <td>11</td>\n",
       "      <td>8</td>\n",
       "      <td>23</td>\n",
       "      <td>0</td>\n",
       "      <td>0</td>\n",
       "      <td>202311082315+00</td>\n",
       "      <td>2023</td>\n",
       "      <td>11</td>\n",
       "      <td>8</td>\n",
       "      <td>23</td>\n",
       "      <td>15</td>\n",
       "      <td>0</td>\n",
       "      <td>0.0</td>\n",
       "    </tr>\n",
       "    <tr>\n",
       "      <th>4</th>\n",
       "      <td>DE00106882008S0000000000001178980</td>\n",
       "      <td>82008</td>\n",
       "      <td>S0000000000001178980</td>\n",
       "      <td>202311082315+00</td>\n",
       "      <td>2023</td>\n",
       "      <td>11</td>\n",
       "      <td>8</td>\n",
       "      <td>23</td>\n",
       "      <td>15</td>\n",
       "      <td>0</td>\n",
       "      <td>202311082315+00</td>\n",
       "      <td>2023</td>\n",
       "      <td>11</td>\n",
       "      <td>8</td>\n",
       "      <td>23</td>\n",
       "      <td>15</td>\n",
       "      <td>0</td>\n",
       "      <td>0.0</td>\n",
       "    </tr>\n",
       "  </tbody>\n",
       "</table>\n",
       "</div>"
      ],
      "text/plain": [
       "                          LOC_MSCONS  LOC_PLZ            LOC_EEGKEY  \\\n",
       "0  DE00106882008S0000000000001178980    82008  S0000000000001178980   \n",
       "1  DE00106882008S0000000000001178980    82008  S0000000000001178980   \n",
       "2  DE00106882008S0000000000001178980    82008  S0000000000001178980   \n",
       "3  DE00106882008S0000000000001178980    82008  S0000000000001178980   \n",
       "4  DE00106882008S0000000000001178980    82008  S0000000000001178980   \n",
       "\n",
       "  DATE_PERIOD_START  YEAR_PS  MONTH_PS  DAY_PS  HOUR_PS  MINUTE_PS  UTC_PS  \\\n",
       "0   202311082300+00     2023        11       8       23          0       0   \n",
       "1   202311082300+00     2023        11       8       23          0       0   \n",
       "2   202311082300+00     2023        11       8       23          0       0   \n",
       "3   202311082300+00     2023        11       8       23          0       0   \n",
       "4   202311082315+00     2023        11       8       23         15       0   \n",
       "\n",
       "   DATE_PERIOD_END  YEAR_PE  MONTH_PE  DAY_PE  HOUR_PE  MINUTE_PE  UTC_PE  \\\n",
       "0  202311092300+00     2023        11       9       23          0       0   \n",
       "1  202311092300+00     2023        11       9       23          0       0   \n",
       "2  202311082315+00     2023        11       8       23         15       0   \n",
       "3  202311082315+00     2023        11       8       23         15       0   \n",
       "4  202311082315+00     2023        11       8       23         15       0   \n",
       "\n",
       "   VALUE  \n",
       "0    0.0  \n",
       "1    0.0  \n",
       "2    0.0  \n",
       "3    0.0  \n",
       "4    0.0  "
      ]
     },
     "execution_count": 16,
     "metadata": {},
     "output_type": "execute_result"
    }
   ],
   "source": [
    "df_1.head()"
   ]
  },
  {
   "cell_type": "code",
   "execution_count": 17,
   "metadata": {},
   "outputs": [],
   "source": [
    "# Assuming df is your DataFrame\n",
    "df_1['VALUE'] = pd.to_numeric(df_1['VALUE'], errors='coerce')\n",
    "total_sum = df_1['VALUE'].sum()"
   ]
  },
  {
   "cell_type": "code",
   "execution_count": 18,
   "metadata": {},
   "outputs": [
    {
     "data": {
      "text/plain": [
       "0.018000000000000002"
      ]
     },
     "execution_count": 18,
     "metadata": {},
     "output_type": "execute_result"
    }
   ],
   "source": [
    "total_sum"
   ]
  },
  {
   "cell_type": "code",
   "execution_count": 19,
   "metadata": {},
   "outputs": [
    {
     "name": "stdout",
     "output_type": "stream",
     "text": [
      "Number of non-convertible values: 0\n"
     ]
    }
   ],
   "source": [
    "num_na_values = df_1['VALUE'].isna().sum()\n",
    "print(\"Number of non-convertible values:\", num_na_values)"
   ]
  }
 ],
 "metadata": {
  "kernelspec": {
   "display_name": "msconsconverter_env",
   "language": "python",
   "name": "python3"
  },
  "language_info": {
   "codemirror_mode": {
    "name": "ipython",
    "version": 3
   },
   "file_extension": ".py",
   "mimetype": "text/x-python",
   "name": "python",
   "nbconvert_exporter": "python",
   "pygments_lexer": "ipython3",
   "version": "3.8.18"
  }
 },
 "nbformat": 4,
 "nbformat_minor": 2
}
